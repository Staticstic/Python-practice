{
 "cells": [
  {
   "cell_type": "code",
   "execution_count": 1,
   "id": "2813ec03",
   "metadata": {},
   "outputs": [],
   "source": [
    "import numpy as np\n",
    "import pandas as pd\n",
    "import matplotlib.pyplot as plt"
   ]
  },
  {
   "cell_type": "code",
   "execution_count": 16,
   "id": "7a1afb8c",
   "metadata": {},
   "outputs": [],
   "source": [
    "news_data = pd.read_excel('news.xlsx')"
   ]
  },
  {
   "cell_type": "code",
   "execution_count": 55,
   "id": "415b8afc",
   "metadata": {},
   "outputs": [],
   "source": [
    "# 카테고리 분포 확인\n",
    "news_data['category'].value_counts()\n",
    "\n",
    "# 카테고리 라벨 인코딩\n",
    "def label_encode(x):\n",
    "    if x == '사회':\n",
    "        return 1\n",
    "    elif x == '경제':\n",
    "        return 2\n",
    "    elif x == '정치':\n",
    "        return 3\n",
    "    elif x == 'IT/과학':\n",
    "        return 4\n",
    "    else:\n",
    "        return 5\n",
    "\n",
    "news_data['label'] = news_data['category'].apply(label_encode)"
   ]
  },
  {
   "cell_type": "code",
   "execution_count": null,
   "id": "53a6fcad",
   "metadata": {},
   "outputs": [],
   "source": [
    "import re\n",
    "from konlpy.tag import Okt\n",
    "from sklearn.feature_extraction.text import TfidfVectorizer"
   ]
  },
  {
   "cell_type": "code",
   "execution_count": 26,
   "id": "e9aa7d01",
   "metadata": {},
   "outputs": [
    {
     "data": {
      "text/html": [
       "<div>\n",
       "<style scoped>\n",
       "    .dataframe tbody tr th:only-of-type {\n",
       "        vertical-align: middle;\n",
       "    }\n",
       "\n",
       "    .dataframe tbody tr th {\n",
       "        vertical-align: top;\n",
       "    }\n",
       "\n",
       "    .dataframe thead th {\n",
       "        text-align: right;\n",
       "    }\n",
       "</style>\n",
       "<table border=\"1\" class=\"dataframe\">\n",
       "  <thead>\n",
       "    <tr style=\"text-align: right;\">\n",
       "      <th></th>\n",
       "      <th>document</th>\n",
       "      <th>cleaned_document</th>\n",
       "    </tr>\n",
       "  </thead>\n",
       "  <tbody>\n",
       "    <tr>\n",
       "      <th>0</th>\n",
       "      <td>■ 방송 : 채널A 뉴스A 라이브 (12시~13시 20분)■ 방송일 : 2023년 ...</td>\n",
       "      <td>방송  채널 뉴스 라이브 시시 분 방송일  년 월 일 수요일 진행  이용환 앵커 ...</td>\n",
       "    </tr>\n",
       "    <tr>\n",
       "      <th>1</th>\n",
       "      <td>대통령실은 '순방이 곧 민생'이란 점을 강조해 온 윤석열 대통령이 오늘부터 시작되는...</td>\n",
       "      <td>대통령실은 순방이 곧 민생이란 점을 강조해 온 윤석열 대통령이 오늘부터 시작되는  ...</td>\n",
       "    </tr>\n",
       "    <tr>\n",
       "      <th>2</th>\n",
       "      <td>\"메가시티 논의 총선 이후에도 이어질 것\"오세훈 서울시장은 15일 서울시청 집무실에...</td>\n",
       "      <td>메가시티 논의 총선 이후에도 이어질 것오세훈 서울시장은 일 서울시청 집무실에서 국민...</td>\n",
       "    </tr>\n",
       "    <tr>\n",
       "      <th>3</th>\n",
       "      <td>‘면담’ 조경태 의원도 속도조절론대입 농어촌특례 5~6년 유지 논의‘자치구 아닌 자...</td>\n",
       "      <td>면담 조경태 의원도 속도조절론대입 농어촌특례 년 유지 논의자치구 아닌 자치시 편입 ...</td>\n",
       "    </tr>\n",
       "    <tr>\n",
       "      <th>4</th>\n",
       "      <td>한동훈 법무부 장관의 아내 진은정 변호사가 국무위원 배우자, 주한 외교대사 배우자 ...</td>\n",
       "      <td>한동훈 법무부 장관의 아내 진은정 변호사가 국무위원 배우자 주한 외교대사 배우자 등...</td>\n",
       "    </tr>\n",
       "  </tbody>\n",
       "</table>\n",
       "</div>"
      ],
      "text/plain": [
       "                                            document  \\\n",
       "0  ■ 방송 : 채널A 뉴스A 라이브 (12시~13시 20분)■ 방송일 : 2023년 ...   \n",
       "1  대통령실은 '순방이 곧 민생'이란 점을 강조해 온 윤석열 대통령이 오늘부터 시작되는...   \n",
       "2  \"메가시티 논의 총선 이후에도 이어질 것\"오세훈 서울시장은 15일 서울시청 집무실에...   \n",
       "3  ‘면담’ 조경태 의원도 속도조절론대입 농어촌특례 5~6년 유지 논의‘자치구 아닌 자...   \n",
       "4  한동훈 법무부 장관의 아내 진은정 변호사가 국무위원 배우자, 주한 외교대사 배우자 ...   \n",
       "\n",
       "                                    cleaned_document  \n",
       "0   방송  채널 뉴스 라이브 시시 분 방송일  년 월 일 수요일 진행  이용환 앵커 ...  \n",
       "1  대통령실은 순방이 곧 민생이란 점을 강조해 온 윤석열 대통령이 오늘부터 시작되는  ...  \n",
       "2  메가시티 논의 총선 이후에도 이어질 것오세훈 서울시장은 일 서울시청 집무실에서 국민...  \n",
       "3  면담 조경태 의원도 속도조절론대입 농어촌특례 년 유지 논의자치구 아닌 자치시 편입 ...  \n",
       "4  한동훈 법무부 장관의 아내 진은정 변호사가 국무위원 배우자 주한 외교대사 배우자 등...  "
      ]
     },
     "execution_count": 26,
     "metadata": {},
     "output_type": "execute_result"
    }
   ],
   "source": [
    "# 텍스트 클리닝 함수 정의\n",
    "def clean_text(text):\n",
    "    # HTML 태그 제거\n",
    "    text = re.sub(r'<.*?>', '', text)\n",
    "    # 특수문자 및 숫자 제거\n",
    "    text = re.sub(r'[^가-힣\\s]', '', text)\n",
    "    # \\n 제거\n",
    "    text = text.replace('\\n', '')\n",
    "    return text\n",
    "\n",
    "# 텍스트 클리닝 적용\n",
    "news_data['cleaned_document'] = news_data['document'].apply(clean_text)\n",
    "\n",
    "# 샘플 데이터 확인\n",
    "news_data[['document', 'cleaned_document']].head()"
   ]
  },
  {
   "cell_type": "code",
   "execution_count": 36,
   "id": "b7fa1d48",
   "metadata": {},
   "outputs": [],
   "source": [
    "# 토큰화, 불용어 제거, \n",
    "okt = Okt()\n",
    "\n",
    "def tokenizer(raw, pos=[\"Noun\", \"Verb\", \"Adjective\"], stopword=[\"년\", \"월\", \"일\", \"시\", \"분\", \"초\", \"뉴스\"]):\n",
    "    return [\n",
    "        word for word, tag in okt.pos(\n",
    "            raw, \n",
    "            norm=True,   # normalize \n",
    "            stem=True    # stemming\n",
    "            )\n",
    "            if len(word) > 1 and tag in pos and word not in stopword # 한글자 이상이고, 품사가 명사, 동사, 형용사이고, 불용어가 아닌 토큰만 가져오기\n",
    "        ]\n",
    "\n",
    "# 토큰화 적용\n",
    "news_data['token'] = news_data['document'].apply(tokenizer)   "
   ]
  },
  {
   "cell_type": "code",
   "execution_count": 48,
   "id": "dcd40ee2",
   "metadata": {},
   "outputs": [
    {
     "data": {
      "text/plain": [
       "0       방송 채널 라이브 방송 수요일 진행 이용환 앵커 출연 강성필 민주당 국민 소통 부위...\n",
       "1       대통령실 순방 민생 이란 강조 하다 윤석열 대통령 오늘 시작 되다 정상 회의 일정 ...\n",
       "2       메가시티 논의 총선 이후 이어지다 오세훈 서울시장 서울 시청 집무실 국민 뉴시티 프...\n",
       "3       면담 조경태 의원 속도 조절 대입 농어촌 특례 유지 논의 자치구 아니다 자치시 편입...\n",
       "4       한동훈 법무부 장관 아내 은정 변호사 국무위원 배우자 주한 외교 대사 배우자 봉사활...\n",
       "                              ...                        \n",
       "1590    한국 서비스 학회 추계 학술 대회 개방 문서 관련 발표 중인 한컴 정지 한글과컴퓨터...\n",
       "1591    공항 경북 서비스 단계 도입 추진 서울 뉴시스 지난 경상북도청 열리다 드림팀 경상북...\n",
       "1592    왼쪽 이미애 한국 항공사 부사 성철 한화 시스템 대표이사 이철우 경상북도지사 이종호...\n",
       "1593    이다 수능 호송 지원 올해 맞다 쉴더스 학년 대학 수학 능력 시험 당일 수험생 신속...\n",
       "1594    디지털 일리 백지영 기자 텔레콤 학년 대학 수학 능력 시험 수험생 다양하다 혜택 제...\n",
       "Name: tokens, Length: 1595, dtype: object"
      ]
     },
     "execution_count": 48,
     "metadata": {},
     "output_type": "execute_result"
    }
   ],
   "source": [
    "# 토큰들 하나의 문장으로 이어 붙이기\n",
    "news_data['tokens'] = [\" \".join(doc) for doc in news_data['token']]"
   ]
  },
  {
   "cell_type": "code",
   "execution_count": 51,
   "id": "17dfe398",
   "metadata": {},
   "outputs": [
    {
     "data": {
      "text/plain": [
       "(['가가', '가게', '가격', '가격표', '가결', '가계', '가계부채', '가공', '가공업', '가교'],\n",
       " (1595, 13873))"
      ]
     },
     "execution_count": 51,
     "metadata": {},
     "output_type": "execute_result"
    }
   ],
   "source": [
    "# TF-IDF 벡터라이저 초기화\n",
    "tfidf_vectorizer = TfidfVectorizer()\n",
    "\n",
    "# 텍스트 벡터화\n",
    "tfidf_matrix = tfidf_vectorizer.fit_transform(news_data['tokens'])\n",
    "\n",
    "# TF-IDF 벡터화 결과 확인 (feature names 및 matrix shape)\n",
    "feature_names = tfidf_vectorizer.get_feature_names()\n",
    "tfidf_matrix_shape = tfidf_matrix.shape\n",
    "\n",
    "feature_names[:10], tfidf_matrix_shape # 처음 10개의 feature 이름과 행렬의 크기를 출력"
   ]
  },
  {
   "cell_type": "code",
   "execution_count": 60,
   "id": "3b60ad2b",
   "metadata": {},
   "outputs": [],
   "source": [
    "from sklearn.model_selection import train_test_split\n",
    "from sklearn.naive_bayes import GaussianNB\n",
    "from sklearn.metrics import classification_report, accuracy_score"
   ]
  },
  {
   "cell_type": "code",
   "execution_count": 65,
   "id": "13db177e",
   "metadata": {},
   "outputs": [],
   "source": [
    "# X, y 분리\n",
    "X = tfidf_matrix.toarray()\n",
    "y = news_data['label']\n",
    "\n",
    "# train, test로 분리\n",
    "X_train, X_test, y_train, y_test = train_test_split(X, y, test_size=0.2, random_state=42)"
   ]
  },
  {
   "cell_type": "code",
   "execution_count": 66,
   "id": "0316cea9",
   "metadata": {},
   "outputs": [
    {
     "data": {
      "text/plain": [
       "GaussianNB()"
      ]
     },
     "execution_count": 66,
     "metadata": {},
     "output_type": "execute_result"
    }
   ],
   "source": [
    "# 가우시안 나이브 베이즈 모델 학습\n",
    "model = GaussianNB()\n",
    "model.fit(X_train, y_train)"
   ]
  },
  {
   "cell_type": "code",
   "execution_count": 67,
   "id": "aed39104",
   "metadata": {},
   "outputs": [],
   "source": [
    "# 학습한 모델을 통해 test data 예측하기\n",
    "y_pred = model.predict(X_test)"
   ]
  },
  {
   "cell_type": "code",
   "execution_count": 70,
   "id": "97ee8cd8",
   "metadata": {},
   "outputs": [
    {
     "name": "stdout",
     "output_type": "stream",
     "text": [
      "              precision    recall  f1-score   support\n",
      "\n",
      "           1       0.99      0.97      0.98        93\n",
      "           2       0.99      1.00      0.99        87\n",
      "           3       1.00      0.99      0.99        92\n",
      "           4       1.00      1.00      1.00        27\n",
      "           5       0.86      0.95      0.90        20\n",
      "\n",
      "    accuracy                           0.98       319\n",
      "   macro avg       0.97      0.98      0.97       319\n",
      "weighted avg       0.99      0.98      0.98       319\n",
      "\n"
     ]
    }
   ],
   "source": [
    "# 예측 성능 평가\n",
    "print(classification_report(y_test, y_pred))"
   ]
  }
 ],
 "metadata": {
  "kernelspec": {
   "display_name": "Python 3",
   "language": "python",
   "name": "python3"
  },
  "language_info": {
   "codemirror_mode": {
    "name": "ipython",
    "version": 3
   },
   "file_extension": ".py",
   "mimetype": "text/x-python",
   "name": "python",
   "nbconvert_exporter": "python",
   "pygments_lexer": "ipython3",
   "version": "3.8.8"
  }
 },
 "nbformat": 4,
 "nbformat_minor": 5
}
