{
 "cells": [
  {
   "cell_type": "code",
   "execution_count": 1,
   "id": "2813ec03",
   "metadata": {},
   "outputs": [],
   "source": [
    "import numpy as np\n",
    "import pandas as pd\n",
    "import matplotlib.pyplot as plt\n",
    "from tqdm import tqdm\n",
    "import time\n",
    "import re\n",
    "from konlpy.tag import Okt"
   ]
  },
  {
   "cell_type": "code",
   "execution_count": 2,
   "id": "85f1f527",
   "metadata": {},
   "outputs": [],
   "source": [
    "# 뉴스 기사 데이터 불러오기\n",
    "data = pd.read_csv('news_data.csv', encoding='utf-8')"
   ]
  },
  {
   "cell_type": "code",
   "execution_count": 3,
   "id": "808f7f2c",
   "metadata": {},
   "outputs": [
    {
     "name": "stderr",
     "output_type": "stream",
     "text": [
      "100%|██████████████████████████████████████████████████████████████████████████████| 1595/1595 [01:03<00:00, 25.04it/s]\n"
     ]
    }
   ],
   "source": [
    "# 불용어 정의\n",
    "stopwords = [\"년\", \"월\", \"일\", \"시\", \"분\", \"초\", \"뉴스\"]\n",
    "\n",
    "# 형태소 분석기 OKT를 사용한 토큰화 작업\n",
    "okt = Okt()\n",
    "\n",
    "tokenized_data = []\n",
    "for sentence in tqdm(data['cleaned_document']):\n",
    "    tokenized_sentence = okt.morphs(sentence, stem=True) # 토큰화\n",
    "    stopwords_removed_sentence = [word for word in tokenized_sentence if len(word) > 1 and not word in stopwords] # 불용어 제거\n",
    "    tokenized_data.append(stopwords_removed_sentence)"
   ]
  },
  {
   "cell_type": "code",
   "execution_count": 8,
   "id": "e9bf7472",
   "metadata": {},
   "outputs": [],
   "source": [
    "# gensim 라이브러리의 Word2Vec 이용하기\n",
    "from gensim.models import Word2Vec"
   ]
  },
  {
   "cell_type": "code",
   "execution_count": 50,
   "id": "af5d32e5",
   "metadata": {},
   "outputs": [],
   "source": [
    "# Word2Vec model 훈련시키기(CBOW)\n",
    "model = Word2Vec(tokenized_data, vector_size=100, window=5, min_count=5)"
   ]
  },
  {
   "cell_type": "code",
   "execution_count": 64,
   "id": "725951e6",
   "metadata": {},
   "outputs": [
    {
     "data": {
      "text/plain": [
       "[('기계', 0.951115608215332),\n",
       " ('굴착기', 0.9456576704978943),\n",
       " ('직할', 0.9444350600242615),\n",
       " ('이색', 0.9401832818984985),\n",
       " ('거대', 0.938080370426178),\n",
       " ('마크', 0.9369220733642578),\n",
       " ('생물다양성', 0.9356628060340881),\n",
       " ('스타일', 0.9352216124534607),\n",
       " ('간의', 0.934786856174469),\n",
       " ('문화유산', 0.9328493475914001)]"
      ]
     },
     "execution_count": 64,
     "metadata": {},
     "output_type": "execute_result"
    }
   ],
   "source": [
    "# 컴퓨터와 유사한 단어 찾기\n",
    "model.wv.most_similar('컴퓨터')"
   ]
  },
  {
   "cell_type": "code",
   "execution_count": 54,
   "id": "7786ab6d",
   "metadata": {},
   "outputs": [],
   "source": [
    "# Skip-gram Word2Vec model 훈련시키기\n",
    "model_skip = Word2Vec(tokenized_data, vector_size=100, window=5, min_count=5, sg=1)"
   ]
  },
  {
   "cell_type": "code",
   "execution_count": 63,
   "id": "814b1029",
   "metadata": {},
   "outputs": [
    {
     "data": {
      "text/plain": [
       "[('비톤', 0.9409067034721375),\n",
       " ('고성능', 0.8958309888839722),\n",
       " ('프로세서', 0.884769856929779),\n",
       " ('인텔', 0.8739143013954163),\n",
       " ('레이', 0.8694416284561157),\n",
       " ('유니콘', 0.8649833798408508),\n",
       " ('왕실', 0.8608004450798035),\n",
       " ('철학', 0.8603827953338623),\n",
       " ('숙련', 0.8600847125053406),\n",
       " ('범용', 0.8588161468505859)]"
      ]
     },
     "execution_count": 63,
     "metadata": {},
     "output_type": "execute_result"
    }
   ],
   "source": [
    "# 컴퓨터와 유사한 단어 찾기\n",
    "model_skip.wv.most_similar('컴퓨터')"
   ]
  }
 ],
 "metadata": {
  "kernelspec": {
   "display_name": "Python 3",
   "language": "python",
   "name": "python3"
  },
  "language_info": {
   "codemirror_mode": {
    "name": "ipython",
    "version": 3
   },
   "file_extension": ".py",
   "mimetype": "text/x-python",
   "name": "python",
   "nbconvert_exporter": "python",
   "pygments_lexer": "ipython3",
   "version": "3.8.8"
  }
 },
 "nbformat": 4,
 "nbformat_minor": 5
}
